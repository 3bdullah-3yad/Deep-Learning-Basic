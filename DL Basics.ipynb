{
 "cells": [
  {
   "cell_type": "markdown",
   "id": "cf34125e",
   "metadata": {},
   "source": [
    "# <span style=\"color:red\">@@@@@@@@@@@@ Ayad @@@@@@@@@@@@</span>"
   ]
  },
  {
   "cell_type": "code",
   "execution_count": 1,
   "id": "8eca0f88",
   "metadata": {},
   "outputs": [],
   "source": [
    "import tensorflow as tf"
   ]
  },
  {
   "cell_type": "markdown",
   "id": "5ceb56e5",
   "metadata": {},
   "source": [
    "# <span style=\"color:red\">1.1 Tensors Rank</span>"
   ]
  },
  {
   "cell_type": "markdown",
   "id": "60b54424",
   "metadata": {},
   "source": [
    "## <span style=\"color:blue\">0-d Tensors</span>"
   ]
  },
  {
   "cell_type": "code",
   "execution_count": 7,
   "id": "b41fefab",
   "metadata": {},
   "outputs": [
    {
     "name": "stdout",
     "output_type": "stream",
     "text": [
      "0\n",
      "0\n"
     ]
    }
   ],
   "source": [
    "sport  = tf.constant(\"Tennis\", tf.string)\n",
    "number = tf.constant(1.41421356237, tf.float64)\n",
    "\n",
    "print(tf.rank(sport).numpy())\n",
    "print(tf.rank(number).numpy())"
   ]
  },
  {
   "cell_type": "markdown",
   "id": "a7362495",
   "metadata": {},
   "source": [
    "## <span style=\"color:blue\">1-d Tensors</span>"
   ]
  },
  {
   "cell_type": "code",
   "execution_count": 3,
   "id": "eef53bce",
   "metadata": {},
   "outputs": [
    {
     "name": "stdout",
     "output_type": "stream",
     "text": [
      "tf.Tensor([b'Football' b'Handball' b'Volleyball'], shape=(3,), dtype=string)\n"
     ]
    },
    {
     "data": {
      "text/plain": [
       "<tf.Tensor: shape=(3,), dtype=float64, numpy=array([ 3.33   ,  5.658  , 25.14879])>"
      ]
     },
     "execution_count": 3,
     "metadata": {},
     "output_type": "execute_result"
    }
   ],
   "source": [
    "sports  = tf.constant(['Football', 'Handball', 'Volleyball'], tf.string)\n",
    "numbers = tf.constant([3.33, 5.658, 25.14879], tf.float64)\n",
    "\n",
    "print(sports)\n",
    "numbers"
   ]
  },
  {
   "cell_type": "code",
   "execution_count": 9,
   "id": "71f49270",
   "metadata": {},
   "outputs": [
    {
     "name": "stdout",
     "output_type": "stream",
     "text": [
      "1\n",
      "1\n"
     ]
    }
   ],
   "source": [
    "print(tf.rank(sports).numpy())\n",
    "print(tf.rank(numbers).numpy())"
   ]
  },
  {
   "cell_type": "markdown",
   "id": "6c4e11c7",
   "metadata": {},
   "source": [
    "## <span style=\"color:blue\">2-d Tensors</span>"
   ]
  },
  {
   "cell_type": "code",
   "execution_count": 11,
   "id": "b4506cd0",
   "metadata": {},
   "outputs": [],
   "source": [
    "matrix = tf.constant([[1.0, 2.0, 3.0, 4.0],\n",
    "                      [5.0, 6.0, 7.0, 8.0]])\n",
    "\n",
    "assert isinstance(matrix, tf.Tensor), \"matrix must be a tf Tensor object\"\n",
    "assert tf.rank(matrix).numpy() == 2"
   ]
  },
  {
   "cell_type": "markdown",
   "id": "a7eaad02",
   "metadata": {},
   "source": [
    "### You can also use slicing to access subtensors within a higher-rank Tensor:"
   ]
  },
  {
   "cell_type": "code",
   "execution_count": 13,
   "id": "a07bdd5a",
   "metadata": {},
   "outputs": [
    {
     "name": "stdout",
     "output_type": "stream",
     "text": [
      "`row_vector`: [5. 6. 7. 8.]\n",
      "`column_vector`: [3. 7.]\n",
      "`scalar`: 7.0\n"
     ]
    }
   ],
   "source": [
    "row_vector = matrix[1]\n",
    "column_vector = matrix[:,2]\n",
    "scalar = matrix[1, 2]\n",
    "\n",
    "print(\"`row_vector`: {}\".format(row_vector.numpy()))\n",
    "print(\"`column_vector`: {}\".format(column_vector.numpy()))\n",
    "print(\"`scalar`: {}\".format(scalar.numpy()))"
   ]
  },
  {
   "cell_type": "markdown",
   "id": "5c8bc5ce",
   "metadata": {},
   "source": [
    "## <span style=\"color:blue\">4-d Tensors</span>\n",
    "#### You can think of this as 10 images where each image is RGB 256 x 256."
   ]
  },
  {
   "cell_type": "code",
   "execution_count": 12,
   "id": "eb17504d",
   "metadata": {},
   "outputs": [],
   "source": [
    "images = tf.zeros([10, 256, 256, 3])\n",
    "\n",
    "assert isinstance(images, tf.Tensor), \"matrix must be a tf Tensor object\"\n",
    "assert tf.rank(images).numpy() == 4, \"matrix must be of rank 4\"\n",
    "assert tf.shape(images).numpy().tolist() == [10, 256, 256, 3], \"matrix is incorrect shape\""
   ]
  },
  {
   "cell_type": "markdown",
   "id": "7c8b8ab4",
   "metadata": {},
   "source": [
    "# <span style=\"color:red\">1.2 Computations on Tensors</span>"
   ]
  },
  {
   "cell_type": "code",
   "execution_count": 14,
   "id": "d1c3bb92",
   "metadata": {},
   "outputs": [],
   "source": [
    "a = tf.constant(15)\n",
    "b = tf.constant(61)"
   ]
  },
  {
   "cell_type": "markdown",
   "id": "405e54ed",
   "metadata": {},
   "source": [
    "![add-graph](https://github.com/aamini/introtodeeplearning/blob/master/lab1/img/add-graph.png?raw=true)"
   ]
  },
  {
   "cell_type": "code",
   "execution_count": 15,
   "id": "d3b13352",
   "metadata": {},
   "outputs": [
    {
     "name": "stdout",
     "output_type": "stream",
     "text": [
      "tf.Tensor(76, shape=(), dtype=int32)\n",
      "tf.Tensor(76, shape=(), dtype=int32)\n"
     ]
    }
   ],
   "source": [
    "c1 = tf.add(a,b)\n",
    "c2 = a + b\n",
    "print(c1)\n",
    "print(c2)"
   ]
  },
  {
   "cell_type": "markdown",
   "id": "75e3caf8",
   "metadata": {},
   "source": [
    "![computation-graph-2](https://github.com/aamini/introtodeeplearning/blob/master/lab1/img/computation-graph.png?raw=true)"
   ]
  },
  {
   "cell_type": "code",
   "execution_count": 16,
   "id": "40c7adbb",
   "metadata": {},
   "outputs": [],
   "source": [
    "def func(a,b):\n",
    "    \n",
    "    c = tf.add(a, b)\n",
    "\n",
    "    d = tf.subtract(b, 1)\n",
    "\n",
    "    e = tf.multiply(c, d)\n",
    "  \n",
    "    return e"
   ]
  },
  {
   "cell_type": "code",
   "execution_count": 17,
   "id": "2457c72d",
   "metadata": {},
   "outputs": [
    {
     "data": {
      "text/plain": [
       "<tf.Tensor: shape=(), dtype=int32, numpy=16>"
      ]
     },
     "execution_count": 17,
     "metadata": {},
     "output_type": "execute_result"
    }
   ],
   "source": [
    "func(5, 3)"
   ]
  },
  {
   "cell_type": "markdown",
   "id": "804301a8",
   "metadata": {},
   "source": [
    "# <span style=\"color:red\">1.3 Neural networks in TensorFlow</span>"
   ]
  },
  {
   "cell_type": "markdown",
   "id": "314886e5",
   "metadata": {},
   "source": [
    "![computation-graph-2](https://github.com/aamini/introtodeeplearning/blob/master/lab1/img/computation-graph-2.png?raw=true)"
   ]
  },
  {
   "cell_type": "markdown",
   "id": "7015c270",
   "metadata": {},
   "source": [
    "## <span style=\"color:blue\">a single Layer to define our simple neural network</span>"
   ]
  },
  {
   "cell_type": "code",
   "execution_count": 37,
   "id": "c2c11658",
   "metadata": {},
   "outputs": [],
   "source": [
    "class DenseLayer(tf.keras.layers.Layer):\n",
    "    def __init__(self, n_output_nodes):\n",
    "        super(DenseLayer, self).__init__()\n",
    "        self.n_output_nodes = n_output_nodes\n",
    "\n",
    "    def build(self, input_shape):\n",
    "        d = int(input_shape[-1])\n",
    "        self.W = self.add_weight(\"weight\", shape=[d, self.n_output_nodes])\n",
    "        self.b = self.add_weight(\"bias\", shape=[1, self.n_output_nodes])\n",
    "\n",
    "    def call(self, x):\n",
    "        \n",
    "        z = tf.matmul(x, self.W) + self.b\n",
    "\n",
    "        y = tf.sigmoid(z)\n",
    "        \n",
    "        return y"
   ]
  },
  {
   "cell_type": "code",
   "execution_count": 36,
   "id": "acb8afff",
   "metadata": {},
   "outputs": [],
   "source": [
    "tf.random.set_seed(33)\n",
    "\n",
    "layer = DenseLayer(3)\n",
    "\n",
    "layer.build((1,2))"
   ]
  },
  {
   "cell_type": "code",
   "execution_count": 47,
   "id": "2774cdc5",
   "metadata": {},
   "outputs": [
    {
     "data": {
      "text/plain": [
       "<tf.Tensor: shape=(1, 2), dtype=float32, numpy=array([[1., 2.]], dtype=float32)>"
      ]
     },
     "execution_count": 47,
     "metadata": {},
     "output_type": "execute_result"
    }
   ],
   "source": [
    "x_input = tf.constant([[1.,2.]], shape=(1,2))\n",
    "x_input"
   ]
  },
  {
   "cell_type": "code",
   "execution_count": 49,
   "id": "1aab8e40",
   "metadata": {},
   "outputs": [
    {
     "data": {
      "text/plain": [
       "array([[0.3474915 , 0.8253506 , 0.11700106]], dtype=float32)"
      ]
     },
     "execution_count": 49,
     "metadata": {},
     "output_type": "execute_result"
    }
   ],
   "source": [
    "y = layer.call(x_input)\n",
    "y.numpy()"
   ]
  },
  {
   "cell_type": "markdown",
   "id": "b2f318ab",
   "metadata": {},
   "source": [
    "## <span style=\"color:blue\"> the Sequential model from Keras and a single Dense layer</span>"
   ]
  },
  {
   "cell_type": "code",
   "execution_count": 65,
   "id": "4c7348ba",
   "metadata": {},
   "outputs": [],
   "source": [
    "from tensorflow.keras import Sequential\n",
    "from tensorflow.keras.layers import Dense"
   ]
  },
  {
   "cell_type": "code",
   "execution_count": 66,
   "id": "1ea4f0e0",
   "metadata": {},
   "outputs": [],
   "source": [
    "n_output_nodes = 3\n",
    "\n",
    "model = Sequential()\n",
    "\n",
    "dense_layer = Dense(n_output_nodes, activation='sigmoid')\n",
    "\n",
    "model.add(dense_layer)"
   ]
  },
  {
   "cell_type": "code",
   "execution_count": 67,
   "id": "4f42599e",
   "metadata": {},
   "outputs": [
    {
     "name": "stdout",
     "output_type": "stream",
     "text": [
      "[[0.1659804  0.57258046 0.8219769 ]]\n"
     ]
    }
   ],
   "source": [
    "x_input = tf.constant([[1,2.]], shape=(1,2))\n",
    "\n",
    "model_output = model(x_input).numpy()\n",
    "\n",
    "print(model_output)"
   ]
  },
  {
   "cell_type": "markdown",
   "id": "275ade45",
   "metadata": {},
   "source": [
    "### Let's define the same neural network as above now using Subclassing rather than the Sequential model."
   ]
  },
  {
   "cell_type": "code",
   "execution_count": 54,
   "id": "ed08ccc8",
   "metadata": {},
   "outputs": [],
   "source": [
    "class SubclassModel(tf.keras.Model):\n",
    "\n",
    "    def __init__(self, n_output_nodes):\n",
    "        super(SubclassModel, self).__init__()\n",
    "        self.dense_layer = Dense(n_output_nodes, activation='sigmoid')\n",
    "    \n",
    "    def call(self, inputs):\n",
    "        return self.dense_layer(inputs)"
   ]
  },
  {
   "cell_type": "code",
   "execution_count": 57,
   "id": "81616657",
   "metadata": {},
   "outputs": [
    {
     "name": "stdout",
     "output_type": "stream",
     "text": [
      "tf.Tensor([[0.21451175 0.09721845 0.8073058 ]], shape=(1, 3), dtype=float32)\n"
     ]
    }
   ],
   "source": [
    "model = SubclassModel(3)\n",
    "\n",
    "x_input = tf.constant([[1,2.]], shape=(1,2))\n",
    "\n",
    "print(model.call(x_input))"
   ]
  },
  {
   "cell_type": "markdown",
   "id": "179d75f5",
   "metadata": {},
   "source": [
    "Importantly, Subclassing affords us a lot of flexibility to define custom models. For example, we can use boolean arguments in the call function to specify different network behaviors, for example different behaviors during training and inference. Let's suppose under some instances we want our network to simply output the input, without any perturbation. We define a boolean argument isidentity to control this behavior:"
   ]
  },
  {
   "cell_type": "code",
   "execution_count": 59,
   "id": "2ef482ff",
   "metadata": {},
   "outputs": [],
   "source": [
    "class IdentityModel(tf.keras.Model):\n",
    "\n",
    "    def __init__(self, n_output_nodes):\n",
    "        super(IdentityModel, self).__init__()\n",
    "        self.dense_layer = tf.keras.layers.Dense(n_output_nodes, activation='sigmoid')\n",
    "\n",
    "    \n",
    "    def call(self, inputs, isidentity=False):\n",
    "        x = self.dense_layer(inputs)\n",
    "        if isidentity:\n",
    "            return inputs\n",
    "        return x"
   ]
  },
  {
   "cell_type": "code",
   "execution_count": 64,
   "id": "0e744546",
   "metadata": {},
   "outputs": [
    {
     "name": "stdout",
     "output_type": "stream",
     "text": [
      "Network output with activation: [[0.31085974 0.8475801  0.2539937 ]]\n",
      "network identity output: [[1. 2.]]\n"
     ]
    }
   ],
   "source": [
    "n_output_nodes = 3\n",
    "model = IdentityModel(n_output_nodes)\n",
    "\n",
    "x_input = tf.constant([[1,2.]], shape=(1,2))\n",
    "\n",
    "out_activate = model.call(x_input)\n",
    "out_identity = model.call(x_input, isidentity=True)\n",
    "\n",
    "\n",
    "print('Network output with activation:', out_activate.numpy())\n",
    "print('network identity output:', out_identity.numpy())"
   ]
  },
  {
   "cell_type": "markdown",
   "id": "ac803f31",
   "metadata": {},
   "source": [
    "# <span style=\"color:red\">1.4 Automatic differentiation in TensorFlow</span>"
   ]
  },
  {
   "cell_type": "code",
   "execution_count": 69,
   "id": "ca9178f7",
   "metadata": {},
   "outputs": [],
   "source": [
    "# y = x^2\n",
    "# Example: x = 3.0\n",
    "\n",
    "x = tf.Variable(3.0)\n",
    "\n",
    "# Initiate the gradient tape\n",
    "with tf.GradientTape() as tape:\n",
    "    y = x * x\n",
    "    \n",
    "# Access the gradient -- derivative of y with respect to x\n",
    "dy_dx = tape.gradient(y, x)\n",
    "\n",
    "assert dy_dx.numpy() == 6.0"
   ]
  },
  {
   "cell_type": "code",
   "execution_count": 81,
   "id": "4a565ece",
   "metadata": {},
   "outputs": [
    {
     "name": "stdout",
     "output_type": "stream",
     "text": [
      "Initializing x=[[0.630609]]\n"
     ]
    }
   ],
   "source": [
    "x = tf.Variable([tf.random.normal([1])])\n",
    "print(\"Initializing x={}\".format(x.numpy()))\n",
    "\n",
    "learning_rate = 1e-2\n",
    "history = []\n",
    "\n",
    "# Define the target value\n",
    "x_f = 4\n",
    "\n",
    "\n",
    "for i in range(500):\n",
    "    with tf.GradientTape() as tape:\n",
    "        loss = (x_f - x)**2\n",
    "\n",
    "    grad = tape.gradient(loss, x)\n",
    "    new_x = x - learning_rate*grad\n",
    "    x.assign(new_x)\n",
    "    history.append(x.numpy()[0])"
   ]
  },
  {
   "cell_type": "code",
   "execution_count": 87,
   "id": "dbd809a2",
   "metadata": {},
   "outputs": [
    {
     "data": {
      "text/plain": [
       "Text(0, 0.5, 'x value')"
      ]
     },
     "execution_count": 87,
     "metadata": {},
     "output_type": "execute_result"
    },
    {
     "data": {
      "image/png": "[encoded data removed]",
      "text/plain": [
       "<Figure size 432x288 with 1 Axes>"
      ]
     },
     "metadata": {
      "needs_background": "light"
     },
     "output_type": "display_data"
    }
   ],
   "source": [
    "import matplotlib.pyplot as plt\n",
    "\n",
    "plt.plot(history)\n",
    "plt.plot([0, 500], [x_f, x_f])\n",
    "\n",
    "plt.legend(('Predicted', 'True'))\n",
    "plt.xlabel('Iteration')\n",
    "plt.ylabel('x value')"
   ]
  },
  {
   "cell_type": "markdown",
   "id": "744a6462",
   "metadata": {},
   "source": [
    "# <span style=\"color:red\">@@@@@@@@@@@@ Ayad @@@@@@@@@@@@</span>"
   ]
  }
 ],
 "metadata": {
  "kernelspec": {
   "display_name": "Python 3 (ipykernel)",
   "language": "python",
   "name": "python3"
  },
  "language_info": {
   "codemirror_mode": {
    "name": "ipython",
    "version": 3
   },
   "file_extension": ".py",
   "mimetype": "text/x-python",
   "name": "python",
   "nbconvert_exporter": "python",
   "pygments_lexer": "ipython3",
   "version": "3.9.7"
  }
 },
 "nbformat": 4,
 "nbformat_minor": 5
}
